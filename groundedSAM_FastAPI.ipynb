{
  "nbformat": 4,
  "nbformat_minor": 0,
  "metadata": {
    "colab": {
      "provenance": [],
      "authorship_tag": "ABX9TyMfxLvNMZ7MNbb/5UmoHsjS",
      "include_colab_link": true
    },
    "kernelspec": {
      "name": "python3",
      "display_name": "Python 3"
    },
    "language_info": {
      "name": "python"
    }
  },
  "cells": [
    {
      "cell_type": "markdown",
      "metadata": {
        "id": "view-in-github",
        "colab_type": "text"
      },
      "source": [
        "<a href=\"https://colab.research.google.com/github/thiensean/Grounded-Segment-Anything/blob/main/groundedSAM_FastAPI.ipynb\" target=\"_parent\"><img src=\"https://colab.research.google.com/assets/colab-badge.svg\" alt=\"Open In Colab\"/></a>"
      ]
    },
    {
      "cell_type": "code",
      "execution_count": null,
      "metadata": {
        "id": "ViDquNgL5jNm"
      },
      "outputs": [],
      "source": [
        "from fastapi import FastAPI, File, UploadFile\n",
        "from pydantic import BaseModel\n",
        "import numpy as np\n",
        "import torch\n",
        "from PIL import Image\n",
        "from io import BytesIO\n",
        "\n",
        "app = FastAPI()\n",
        "\n",
        "class GenerateRequest(BaseModel):\n",
        "    mask_id: int\n",
        "    prompt: str\n",
        "\n",
        "@app.post(\"/upload\")\n",
        "async def upload_image(file: UploadFile = File(...)):\n",
        "    # Read the uploaded image\n",
        "    image_data = await file.read()\n",
        "    image = Image.open(BytesIO(image_data))\n",
        "\n",
        "    # Process the image to detect and segment objects, generating masks\n",
        "    masks = process_image(image)\n",
        "\n",
        "    # Return mask IDs to the user\n",
        "    return {\"mask_ids\": list(range(len(masks)))}\n",
        "\n",
        "@app.post(\"/generate\")\n",
        "def generate_image(request: GenerateRequest):\n",
        "    # Use the mask ID and prompt to generate an image\n",
        "    generated_image = create_image_with_prompt(request.mask_id, request.prompt)\n",
        "\n",
        "    # Convert the generated image to a format that can be sent to the user\n",
        "    img_byte_arr = BytesIO()\n",
        "    generated_image.save(img_byte_arr, format='PNG')\n",
        "    img_byte_arr = img_byte_arr.getvalue()\n",
        "\n",
        "    return Response(content=img_byte_arr, media_type=\"image/png\")\n"
      ]
    }
  ]
}